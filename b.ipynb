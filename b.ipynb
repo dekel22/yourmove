{
 "cells": [
  {
   "cell_type": "code",
   "execution_count": 1,
   "metadata": {},
   "outputs": [],
   "source": [
    "from bqplot import pyplot as plt\n",
    "import ipywidgets as widget\n",
    "import numpy as np"
   ]
  },
  {
   "cell_type": "code",
   "execution_count": 2,
   "metadata": {},
   "outputs": [],
   "source": [
    "n=2000\n",
    "x= np.linspace(0,10,n)\n",
    "y=np.cumsum(np.random.randn(10)*10).astype(int)"
   ]
  },
  {
   "cell_type": "code",
   "execution_count": 3,
   "metadata": {},
   "outputs": [],
   "source": [
    "fig_hist=plt.figure('defgfgfggggggggggggggggggg')"
   ]
  },
  {
   "cell_type": "code",
   "execution_count": 4,
   "metadata": {},
   "outputs": [],
   "source": [
    "hist=plt.hist(y,bins=25)"
   ]
  },
  {
   "cell_type": "code",
   "execution_count": 5,
   "metadata": {},
   "outputs": [
    {
     "data": {
      "application/vnd.jupyter.widget-view+json": {
       "model_id": "e37c58885471443a9f3dcc70630cc93c",
       "version_major": 2,
       "version_minor": 0
      },
      "text/plain": [
       "Figure(axes=[Axis(orientation='vertical', scale=LinearScale()), Axis(scale=LinearScale())], fig_margin={'top':…"
      ]
     },
     "metadata": {},
     "output_type": "display_data"
    }
   ],
   "source": [
    "fig_hist"
   ]
  },
  {
   "cell_type": "code",
   "execution_count": 40,
   "metadata": {},
   "outputs": [],
   "source": [
    "hist.bins=20"
   ]
  },
  {
   "cell_type": "raw",
   "metadata": {},
   "source": [
    "slider =widgets.IntSlider(min=1 , max=100,vmodel=30)\n",
    "slider"
   ]
  },
  {
   "cell_type": "code",
   "execution_count": 41,
   "metadata": {},
   "outputs": [
    {
     "data": {
      "application/vnd.jupyter.widget-view+json": {
       "model_id": "41dce0db1c5c496397ea919ad0413f7a",
       "version_major": 2,
       "version_minor": 0
      },
      "text/plain": [
       "IntSlider(value=1, min=1)"
      ]
     },
     "metadata": {},
     "output_type": "display_data"
    }
   ],
   "source": [
    "slider=widget.IntSlider(min=1 , max=100,vmodel=30)\n",
    "slider"
   ]
  },
  {
   "cell_type": "code",
   "execution_count": 42,
   "metadata": {},
   "outputs": [
    {
     "data": {
      "text/plain": [
       "<traitlets.traitlets.link at 0x1f67817f288>"
      ]
     },
     "execution_count": 42,
     "metadata": {},
     "output_type": "execute_result"
    }
   ],
   "source": [
    "widget.link((hist,'bins'),(slider,'value'))"
   ]
  }
 ],
 "metadata": {
  "kernelspec": {
   "display_name": "Python 3",
   "language": "python",
   "name": "python3"
  },
  "language_info": {
   "codemirror_mode": {
    "name": "ipython",
    "version": 3
   },
   "file_extension": ".py",
   "mimetype": "text/x-python",
   "name": "python",
   "nbconvert_exporter": "python",
   "pygments_lexer": "ipython3",
   "version": "3.7.6"
  },
  "widgets": {
   "application/vnd.jupyter.widget-state+json": {
    "state": {
     "2050bd4adaa24ac7b15fef3fabeb83c8": {
      "model_module": "@jupyter-widgets/controls",
      "model_module_version": "1.5.0",
      "model_name": "SliderStyleModel",
      "state": {
       "description_width": ""
      }
     },
     "211a67c1e7164e71b3bfce8980be6195": {
      "model_module": "@jupyter-widgets/base",
      "model_module_version": "1.2.0",
      "model_name": "LayoutModel",
      "state": {}
     },
     "264acbca9cda460f8845b8a2ad7ab47e": {
      "model_module": "bqplot",
      "model_module_version": "^0.5.20",
      "model_name": "LinearScaleModel",
      "state": {
       "allow_padding": false,
       "max": 1,
       "min": 0,
       "stabilized": false
      }
     },
     "2e99a04302c44f1d89d04bf3d9eda173": {
      "buffers": [
       {
        "data": "AAAAAAAA8D8AAAAAAAAAAAAAAAAAAAAAAAAAAAAAAAAAAAAAAADwPwAAAAAAAAAAAAAAAAAA8D8AAAAAAAAAAAAAAAAAAPA/AAAAAAAAAAAAAAAAAAAAAAAAAAAAAPA/AAAAAAAAAAAAAAAAAAAAAAAAAAAAAABAAAAAAAAA8D8AAAAAAADwPwAAAAAAAAAAAAAAAAAAAAAAAAAAAADwPw==",
        "encoding": "base64",
        "path": [
         "count",
         "value"
        ]
       },
       {
        "data": "/////w8AAAADAAAA9f///wcAAAAVAAAAGQAAABcAAAAgAAAAFQAAAA==",
        "encoding": "base64",
        "path": [
         "sample",
         "value"
        ]
       }
      ],
      "model_module": "bqplot",
      "model_module_version": "^0.5.20",
      "model_name": "HistModel",
      "state": {
       "bins": 20,
       "count": {
        "dtype": "float64",
        "shape": [
         20
        ],
        "type": null,
        "value": {}
       },
       "midpoints": [
        -9.9,
        -7.7,
        -5.5,
        -3.2999999999999994,
        -1.0999999999999996,
        1.1000000000000005,
        3.3000000000000016,
        5.500000000000002,
        7.700000000000001,
        9.9,
        12.100000000000001,
        14.300000000000002,
        16.5,
        18.700000000000003,
        20.900000000000002,
        23.1,
        25.300000000000004,
        27.500000000000004,
        29.700000000000003
       ],
       "sample": {
        "dtype": "int32",
        "shape": [
         10
        ],
        "type": null,
        "value": {}
       },
       "scales": {
        "count": "IPY_MODEL_c5cab02ff8a94d5ea57af714c22bd7e4",
        "sample": "IPY_MODEL_bb3c86884ad74833abd20f4cc3d7e260"
       }
      }
     },
     "38eb32defc004362852f66d027cc63d9": {
      "model_module": "@jupyter-widgets/controls",
      "model_module_version": "1.5.0",
      "model_name": "IntSliderModel",
      "state": {
       "layout": "IPY_MODEL_211a67c1e7164e71b3bfce8980be6195",
       "min": 1,
       "style": "IPY_MODEL_5991a01a5b67425d989ac2753864f527",
       "value": 20
      }
     },
     "41dce0db1c5c496397ea919ad0413f7a": {
      "model_module": "@jupyter-widgets/controls",
      "model_module_version": "1.5.0",
      "model_name": "IntSliderModel",
      "state": {
       "layout": "IPY_MODEL_647d6511b7b34b2b9696b36afc03be24",
       "min": 1,
       "style": "IPY_MODEL_77bb368fe9d54f298bd20634105cdb2d",
       "value": 49
      }
     },
     "46419133658745ba9693f217ff7a8ca8": {
      "model_module": "@jupyter-widgets/base",
      "model_module_version": "1.2.0",
      "model_name": "LayoutModel",
      "state": {}
     },
     "5991a01a5b67425d989ac2753864f527": {
      "model_module": "@jupyter-widgets/controls",
      "model_module_version": "1.5.0",
      "model_name": "SliderStyleModel",
      "state": {
       "description_width": ""
      }
     },
     "5df8440881954c62802d24656f40abdf": {
      "model_module": "bqplot",
      "model_module_version": "^0.5.20",
      "model_name": "FigureModel",
      "state": {
       "axes": [
        "IPY_MODEL_dfad64193252462883f147d620f34816",
        "IPY_MODEL_6293803f7dc3477e9b416c8b098c702e"
       ],
       "layout": "IPY_MODEL_ea039fe033614f57a1878fe39ad1176c",
       "marks": [
        "IPY_MODEL_2e99a04302c44f1d89d04bf3d9eda173",
        "IPY_MODEL_b10617515c014b27a759f244452c95ae"
       ],
       "scale_x": "IPY_MODEL_8582f3008e294c9aa282b234f5a8afc5",
       "scale_y": "IPY_MODEL_264acbca9cda460f8845b8a2ad7ab47e",
       "title": "Figure de"
      }
     },
     "6293803f7dc3477e9b416c8b098c702e": {
      "model_module": "bqplot",
      "model_module_version": "^0.5.20",
      "model_name": "AxisModel",
      "state": {
       "scale": "IPY_MODEL_bb3c86884ad74833abd20f4cc3d7e260",
       "side": "bottom",
       "tick_values": null
      }
     },
     "6386d94746e44b83a8386004cde5c9b8": {
      "model_module": "bqplot",
      "model_module_version": "^0.5.20",
      "model_name": "LinearScaleModel",
      "state": {
       "stabilized": false
      }
     },
     "647d6511b7b34b2b9696b36afc03be24": {
      "model_module": "@jupyter-widgets/base",
      "model_module_version": "1.2.0",
      "model_name": "LayoutModel",
      "state": {}
     },
     "650ed6ef0aac427983fb0228f7269068": {
      "buffers": [
       {
        "data": "AAAAAAAA8D8AAAAAAAAAAAAAAAAAAAAAAAAAAAAAAAAAAAAAAAAAAAAAAAAAAAAAAAAAAAAAAAAAAAAAAAAAAAAAAAAAAAAAAAAAAAAAAAAAAAAAAAAAAAAAAAAAAAAAAAAAAAAAAAAAAAAAAAAAAAAAAAAAAPA/AAAAAAAAAAAAAAAAAAAAQAAAAAAAAAAAAAAAAAAAAEAAAAAAAAAAAAAAAAAAAAAAAAAAAAAA8D8AAAAAAAAAAAAAAAAAAAAAAAAAAAAAAAAAAAAAAAAAAAAAAAAAAAAAAAAAAAAAAAAAAAAAAAAAAAAAAAAAAABAAAAAAAAAAAAAAAAAAAAAAAAAAAAAAAAAAAAAAAAAAAAAAAAAAAAAAAAAAAAAAAAAAAAAAAAAAAAAAAAAAAAAAAAAAAAAAAAAAAAAAAAAAAAAAAAAAAAAAAAAAAAAAAAAAAAAAAAAAAAAAAAAAAAAAAAAAAAAAAAAAAAAAAAAAAAAAAAAAAAAAAAAAAAAAAAAAAAAAAAAAAAAAAAAAADwPw==",
        "encoding": "base64",
        "path": [
         "count",
         "value"
        ]
       },
       {
        "data": "BgAAAA4AAAAhAAAAFgAAABYAAAAQAAAAEAAAAA8AAAASAAAADwAAAA==",
        "encoding": "base64",
        "path": [
         "sample",
         "value"
        ]
       }
      ],
      "model_module": "bqplot",
      "model_module_version": "^0.5.20",
      "model_name": "HistModel",
      "state": {
       "bins": 49,
       "count": {
        "dtype": "float64",
        "shape": [
         50
        ],
        "type": null,
        "value": {}
       },
       "midpoints": [
        6.275510204081632,
        6.826530612244898,
        7.377551020408163,
        7.928571428571429,
        8.479591836734693,
        9.03061224489796,
        9.581632653061224,
        10.13265306122449,
        10.683673469387754,
        11.23469387755102,
        11.785714285714285,
        12.33673469387755,
        12.887755102040815,
        13.438775510204081,
        13.989795918367346,
        14.540816326530612,
        15.091836734693876,
        15.642857142857142,
        16.193877551020407,
        16.744897959183675,
        17.295918367346935,
        17.846938775510203,
        18.39795918367347,
        18.948979591836732,
        19.5,
        20.05102040816326,
        20.60204081632653,
        21.153061224489797,
        21.704081632653057,
        22.255102040816325,
        22.806122448979593,
        23.357142857142854,
        23.908163265306122,
        24.459183673469383,
        25.01020408163265,
        25.56122448979592,
        26.11224489795918,
        26.663265306122447,
        27.214285714285715,
        27.765306122448976,
        28.316326530612244,
        28.867346938775505,
        29.418367346938773,
        29.96938775510204,
        30.5204081632653,
        31.07142857142857,
        31.622448979591837,
        32.1734693877551,
        32.724489795918366
       ],
       "sample": {
        "dtype": "int32",
        "shape": [
         10
        ],
        "type": null,
        "value": {}
       },
       "scales": {
        "count": "IPY_MODEL_6386d94746e44b83a8386004cde5c9b8",
        "sample": "IPY_MODEL_ab3e459ab2614a49a670cdb4a8c7c80f"
       }
      }
     },
     "66aa0eac98f9480fb8441b5d511ce493": {
      "model_module": "bqplot",
      "model_module_version": "^0.5.20",
      "model_name": "LinearScaleModel",
      "state": {
       "allow_padding": false,
       "max": 1,
       "min": 0,
       "stabilized": false
      }
     },
     "6ecd88fc3fd64e7d93161772c8af76cd": {
      "model_module": "@jupyter-widgets/controls",
      "model_module_version": "1.5.0",
      "model_name": "IntSliderModel",
      "state": {
       "layout": "IPY_MODEL_91dc92f9abaf41eaa17f22d3b860180c",
       "min": 1,
       "style": "IPY_MODEL_eba7c4d1573541e6a3e196dc90e13444",
       "value": 33
      }
     },
     "77bb368fe9d54f298bd20634105cdb2d": {
      "model_module": "@jupyter-widgets/controls",
      "model_module_version": "1.5.0",
      "model_name": "SliderStyleModel",
      "state": {
       "description_width": ""
      }
     },
     "80b778df25ef4950adfb14251a71b4d6": {
      "model_module": "@jupyter-widgets/base",
      "model_module_version": "1.2.0",
      "model_name": "LayoutModel",
      "state": {}
     },
     "8582f3008e294c9aa282b234f5a8afc5": {
      "model_module": "bqplot",
      "model_module_version": "^0.5.20",
      "model_name": "LinearScaleModel",
      "state": {
       "allow_padding": false,
       "max": 1,
       "min": 0,
       "stabilized": false
      }
     },
     "91dc92f9abaf41eaa17f22d3b860180c": {
      "model_module": "@jupyter-widgets/base",
      "model_module_version": "1.2.0",
      "model_name": "LayoutModel",
      "state": {}
     },
     "ab3e459ab2614a49a670cdb4a8c7c80f": {
      "model_module": "bqplot",
      "model_module_version": "^0.5.20",
      "model_name": "LinearScaleModel",
      "state": {
       "stabilized": false
      }
     },
     "af3823b127134f1987c780a6f47afd1b": {
      "model_module": "bqplot",
      "model_module_version": "^0.5.20",
      "model_name": "AxisModel",
      "state": {
       "orientation": "vertical",
       "scale": "IPY_MODEL_6386d94746e44b83a8386004cde5c9b8",
       "side": "left",
       "tick_values": null
      }
     },
     "b10617515c014b27a759f244452c95ae": {
      "buffers": [
       {
        "data": "AAAAAAAA8D8AAAAAAAAAAAAAAAAAAAAAAAAAAAAAAAAAAAAAAAAAAAAAAAAAAAAAAAAAAAAA8D8AAAAAAAAAQAAAAAAAAABAAAAAAAAA8D8AAAAAAAAAAAAAAAAAAAAAAAAAAAAAAEAAAAAAAAAAAAAAAAAAAAAAAAAAAAAAAAAAAAAAAAAAAAAAAAAAAAAAAAAAAAAAAAAAAAAAAAAAAAAAAAAAAPA/",
        "encoding": "base64",
        "path": [
         "count",
         "value"
        ]
       },
       {
        "data": "BgAAAA4AAAAhAAAAFgAAABYAAAAQAAAAEAAAAA8AAAASAAAADwAAAA==",
        "encoding": "base64",
        "path": [
         "sample",
         "value"
        ]
       }
      ],
      "model_module": "bqplot",
      "model_module_version": "^0.5.20",
      "model_name": "HistModel",
      "state": {
       "bins": 33,
       "count": {
        "dtype": "float64",
        "shape": [
         21
        ],
        "type": null,
        "value": {}
       },
       "midpoints": [
        -10.333333333333332,
        -9,
        -7.666666666666667,
        -6.333333333333334,
        -5,
        -3.666666666666667,
        -2.333333333333334,
        -1.0000000000000009,
        0.33333333333333304,
        1.666666666666666,
        2.999999999999999,
        4.333333333333333,
        5.666666666666666,
        6.999999999999998,
        8.333333333333332,
        9.666666666666666,
        10.999999999999998,
        12.333333333333332,
        13.666666666666666,
        14.999999999999998,
        16.333333333333332,
        17.666666666666664,
        19,
        20.333333333333332,
        21.666666666666664,
        22.999999999999996,
        24.333333333333332,
        25.666666666666664,
        26.999999999999996,
        28.333333333333332,
        29.666666666666664,
        30.999999999999996
       ],
       "sample": {
        "dtype": "int32",
        "shape": [
         10
        ],
        "type": null,
        "value": {}
       },
       "scales": {
        "count": "IPY_MODEL_c5cab02ff8a94d5ea57af714c22bd7e4",
        "sample": "IPY_MODEL_bb3c86884ad74833abd20f4cc3d7e260"
       }
      }
     },
     "b782e8e9b309439aa4fcd571eb6bd719": {
      "model_module": "bqplot",
      "model_module_version": "^0.5.20",
      "model_name": "FigureModel",
      "state": {
       "axes": [
        "IPY_MODEL_af3823b127134f1987c780a6f47afd1b",
        "IPY_MODEL_e9fc3e2bc4bc4686b938de1829c4e1e1"
       ],
       "layout": "IPY_MODEL_46419133658745ba9693f217ff7a8ca8",
       "marks": [
        "IPY_MODEL_650ed6ef0aac427983fb0228f7269068"
       ],
       "scale_x": "IPY_MODEL_f3bead3aece443f49945c058635fddb2",
       "scale_y": "IPY_MODEL_66aa0eac98f9480fb8441b5d511ce493",
       "title": "Figure defgfgfggggggggggggggggggg"
      }
     },
     "bb3c86884ad74833abd20f4cc3d7e260": {
      "model_module": "bqplot",
      "model_module_version": "^0.5.20",
      "model_name": "LinearScaleModel",
      "state": {
       "stabilized": false
      }
     },
     "c5cab02ff8a94d5ea57af714c22bd7e4": {
      "model_module": "bqplot",
      "model_module_version": "^0.5.20",
      "model_name": "LinearScaleModel",
      "state": {
       "stabilized": false
      }
     },
     "dfad64193252462883f147d620f34816": {
      "model_module": "bqplot",
      "model_module_version": "^0.5.20",
      "model_name": "AxisModel",
      "state": {
       "orientation": "vertical",
       "scale": "IPY_MODEL_c5cab02ff8a94d5ea57af714c22bd7e4",
       "side": "left",
       "tick_values": null
      }
     },
     "e9fc3e2bc4bc4686b938de1829c4e1e1": {
      "model_module": "bqplot",
      "model_module_version": "^0.5.20",
      "model_name": "AxisModel",
      "state": {
       "scale": "IPY_MODEL_ab3e459ab2614a49a670cdb4a8c7c80f",
       "side": "bottom",
       "tick_values": null
      }
     },
     "ea039fe033614f57a1878fe39ad1176c": {
      "model_module": "@jupyter-widgets/base",
      "model_module_version": "1.2.0",
      "model_name": "LayoutModel",
      "state": {}
     },
     "eba7c4d1573541e6a3e196dc90e13444": {
      "model_module": "@jupyter-widgets/controls",
      "model_module_version": "1.5.0",
      "model_name": "SliderStyleModel",
      "state": {
       "description_width": ""
      }
     },
     "ef2874a5f6e14434ac2c0a6808a23fee": {
      "model_module": "@jupyter-widgets/controls",
      "model_module_version": "1.5.0",
      "model_name": "IntSliderModel",
      "state": {
       "layout": "IPY_MODEL_80b778df25ef4950adfb14251a71b4d6",
       "min": 1,
       "style": "IPY_MODEL_2050bd4adaa24ac7b15fef3fabeb83c8",
       "value": 1
      }
     },
     "f3bead3aece443f49945c058635fddb2": {
      "model_module": "bqplot",
      "model_module_version": "^0.5.20",
      "model_name": "LinearScaleModel",
      "state": {
       "allow_padding": false,
       "max": 1,
       "min": 0,
       "stabilized": false
      }
     }
    },
    "version_major": 2,
    "version_minor": 0
   }
  }
 },
 "nbformat": 4,
 "nbformat_minor": 4
}
