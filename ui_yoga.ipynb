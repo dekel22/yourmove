{
 "cells": [
  {
   "cell_type": "code",
   "execution_count": 2,
   "metadata": {
    "scrolled": true
   },
   "outputs": [
    {
     "name": "stdout",
     "output_type": "stream",
     "text": [
      "Enable a serverextension in configuration.\n",
      "\n",
      "Usage\n",
      "    jupyter serverextension enable [--system|--sys-prefix]\n",
      "\n",
      "Options\n",
      "\n",
      "-------\n",
      "\n",
      "\n",
      "\n",
      "Arguments that take values are actually convenience aliases to full\n",
      "Configurables, whose aliases are listed on the help line. For more information\n",
      "on full configurables, see '--help-all'.\n",
      "\n",
      "\n",
      "--debug\n",
      "\n",
      "    set log level to logging.DEBUG (maximize logging output)\n",
      "\n",
      "--user\n",
      "\n",
      "    Perform the operation for the current user\n",
      "\n",
      "--system\n",
      "\n",
      "    Perform the operation system-wide\n",
      "\n",
      "--sys-prefix\n",
      "\n",
      "    Use sys.prefix as the prefix for installing server extensions\n",
      "\n",
      "--py\n",
      "\n",
      "    Install from a Python package\n",
      "\n",
      "--python\n",
      "\n",
      "    Install from a Python package\n",
      "--log-level=<Enum> (Application.log_level)\n",
      "\n",
      "    Default: 30\n",
      "\n",
      "    Choices: (0, 10, 20, 30, 40, 50, 'DEBUG', 'INFO', 'WARN', 'ERROR', 'CRITICAL')\n",
      "\n",
      "    Set the log level by value or name.\n",
      "\n",
      "--config=<Unicode> (JupyterApp.config_file)\n",
      "\n",
      "    Default: ''\n",
      "\n",
      "    Full path of a config file.\n",
      "\n",
      "To see all available configurables, use `--help-all`\n",
      "\n"
     ]
    },
    {
     "name": "stderr",
     "output_type": "stream",
     "text": [
      "Bad config encountered during initialization:\n",
      "Unrecognized flag: '-sys-prefix'\n"
     ]
    }
   ],
   "source": [
    "#!pip install opencv-python\n",
    "#!pip install playsound\n",
    "#!pip install viola\n",
    "#!pip install voila\n",
    "!jupyter serverextension enable -sys-prefix voila"
   ]
  },
  {
   "cell_type": "code",
   "execution_count": null,
   "metadata": {},
   "outputs": [],
   "source": [
    "import playsound\n",
    "import numpy as np\n",
    "import argparse\n",
    "from playsound import playsound\n",
    "import cv2 as cv\n",
    "import seaborn as sns\n",
    "import matplotlib.pyplot as plt\n",
    "import time\n",
    "import cv2 as cv\n",
    "import pygame\n",
    "from pygame import mixer\n",
    "pygame.init()"
   ]
  },
  {
   "cell_type": "code",
   "execution_count": null,
   "metadata": {},
   "outputs": [],
   "source": [
    "playsound('d.mp3',\"**0**\")\n",
    "playsound('d.mp3',\"**0**\")"
   ]
  },
  {
   "cell_type": "code",
   "execution_count": null,
   "metadata": {},
   "outputs": [],
   "source": [
    "playsound('hi.mp3',\"**0**\")\n",
    "playsound('hands_breath.mp3',False)"
   ]
  },
  {
   "cell_type": "code",
   "execution_count": null,
   "metadata": {},
   "outputs": [],
   "source": [
    "\n",
    "\n",
    "net=cv.dnn.readNetFromTensorflow('graph_opt.pb')\n",
    "\n",
    "\n",
    "BODY_PARTS = { \"Nose\": 0, \"Neck\": 1, \"RShoulder\": 2, \"RElbow\": 3, \"RWrist\": 4,\n",
    "               \"LShoulder\": 5, \"LElbow\": 6, \"LWrist\": 7, \"RHip\": 8, \"RKnee\": 9,\n",
    "               \"RAnkle\": 10, \"LHip\": 11, \"LKnee\": 12, \"LAnkle\": 13, \"REye\": 14,\n",
    "               \"LEye\": 15, \"REar\": 16, \"LEar\": 17, \"Background\": 18 }\n",
    "\n",
    "POSE_PAIRS = [ [\"Neck\", \"RShoulder\"], [\"Neck\", \"LShoulder\"], [\"RShoulder\", \"RElbow\"],\n",
    "               [\"RElbow\", \"RWrist\"], [\"LShoulder\", \"LElbow\"], [\"LElbow\", \"LWrist\"],\n",
    "               [\"Neck\", \"RHip\"], [\"RHip\", \"RKnee\"], [\"RKnee\", \"RAnkle\"], [\"Neck\", \"LHip\"],\n",
    "               [\"LHip\", \"LKnee\"], [\"LKnee\", \"LAnkle\"], [\"Neck\", \"Nose\"], [\"Nose\", \"REye\"],\n",
    "               [\"REye\", \"REar\"], [\"Nose\", \"LEye\"], [\"LEye\", \"LEar\"] ]\n",
    "\n",
    "inWidth = 368\n",
    "inHeight = 368\n",
    "net = cv.dnn.readNetFromTensorflow(\"graph_opt.pb\")\n",
    "\n",
    "#cap = cv.VideoCapture('yoga.mp4')\n",
    "\n",
    "cap = cv.VideoCapture(0)"
   ]
  },
  {
   "cell_type": "code",
   "execution_count": null,
   "metadata": {},
   "outputs": [],
   "source": [
    "body_parts=[3]\n",
    "poinst_history =np.array([(16,30),(20,20)]\n",
    "r=15\n",
    "body_parts=[3,6]    \n",
    "k=0\n",
    "\n",
    "for i in range(202,530):\n",
    "    poinst_history.append([(0,0),(0,0)])\n",
    "    frame = np.load('temp\\\\frame' + str(i) + '.npy')\n",
    "    cv.waitKey(1)\n",
    "    frameWidth = frame.shape[1]\n",
    "    frameHeight = frame.shape[0]\n",
    "    net.setInput(cv.dnn.blobFromImage(frame, 1.0, (inWidth, inHeight), (10.5, 127.5, 127.5), swapRB=True, crop=False))\n",
    "    out = net.forward()\n",
    "    out = out[:, :39, :, :]  \n",
    "    points=[]\n",
    "\n",
    "\n",
    "    for j in range(len(body_parts)):\n",
    "        heatMap = out[0, body_parts[j], :, :]\n",
    "        pre_point =  poinst_history[-2][j]   \n",
    "       \n",
    "        x,y =pre_point[0],pre_point[1]\n",
    "        local_area=heatMap[ y-r:y+r,x-r:x+r]\n",
    "        _, conf, _, local_point = cv.minMaxLoc(local_area)\n",
    "        \n",
    "        point=(local_point[0] + x -r, local_point[1] + y -r)\n",
    "        print(x,y)\n",
    "        print(local_point)\n",
    "        print(point)\n",
    "        poinst_history[-1][j]=point\n",
    "        frame_x = (frameWidth * point[0]) / out.shape[3]\n",
    "        frame_y = (frameHeight * point[1]) / out.shape[2]\n",
    "        points.append((int(frame_x), int(frame_y)) if conf > 0 else None)\n",
    "    for p in points:\n",
    "        cv.ellipse(frame, p, (10, 10), 0, 0, 180, (0, 0, 255), cv.FILLED)\n",
    "    \n",
    "    t, _ = net.getPerfProfile()\n",
    "    cv.putText(frame, str(i), (10, 20), cv.FONT_HERSHEY_SIMPLEX, 0.5, (0, 0, 0))\n",
    "    cv.imshow('OpenPose using OpenCV', frame) \n",
    "    r=2\n",
    "    cv.waitKey(100)\n",
    "cv.destroyAllWindows()\n"
   ]
  },
  {
   "cell_type": "code",
   "execution_count": null,
   "metadata": {},
   "outputs": [],
   "source": [
    "import cv2 as cv\n",
    "mixer.music.load('rain2.mp3')\n",
    "vol=0.01\n",
    "mixer.music.set_volume(0.01)\n",
    "mixer.music.play(200)\n",
    "mi_max=cv.minMaxLoc(np.array(poinst_history)[:,1,1])\n",
    "ups_frames=mi_max[3][1]-mi_max[2][1]\n",
    "b_in=True\n",
    "\n",
    "\n",
    "k=0\n",
    "st,end=202,530\n",
    "for i in range(st,end):\n",
    "    vol=vol+0.01\n",
    "    mixer.music.set_volume(vol)\n",
    "    points=[]\n",
    "    frame = np.load('temp\\\\frame' + str(i) + '.npy')\n",
    "    cv.waitKey(1)\n",
    "    frameWidth = frame.shape[1]\n",
    "    frameHeight = frame.shape[0]\n",
    "  \n",
    "    if (i>st+ ups_frames):\n",
    "        st = i \n",
    "        vol=0.01\n",
    "        if (b_in):\n",
    "            mixer.music.load('rain.mp3')\n",
    "        else: \n",
    "            mixer.music.load('rain2.mp3')\n",
    "        b_in = not(b_in)\n",
    "        mixer.music.play(20)\n",
    "        \n",
    "    \n",
    "\n",
    "    for j in range(len(body_parts)):\n",
    "       \n",
    "        point=poinst_history[k][j]\n",
    "        frame_x = (frameWidth * point[0]) / out.shape[3]\n",
    "        frame_y = (frameHeight * point[1]) / out.shape[2]\n",
    "        points.append((int(frame_x), int(frame_y)) if conf > 0 else None)\n",
    "    for p in points:\n",
    "        cv.ellipse(frame, p, (10, 10), 0, 0, 180, (0, 0, 255), cv.FILLED)\n",
    "    \n",
    "    t, _ = net.getPerfProfile()\n",
    "    cv.putText(frame, str(i-st), (10, 20), cv.FONT_HERSHEY_SIMPLEX, 0.5, (0, 0, 0))\n",
    "    cv.imshow('OpenPose using OpenCV', frame) \n",
    "    r=2\n",
    "    k=k+1\n",
    "    cv.waitKey(200)\n",
    "cv.destroyAllWindows()\n",
    "mixer.music.stop()\n",
    "\n"
   ]
  },
  {
   "cell_type": "code",
   "execution_count": null,
   "metadata": {},
   "outputs": [],
   "source": [
    "mixer.music.load('rain2.mp3')\n",
    "for i in range(10):    \n",
    "    mixer.music.play(1)\n",
    "    mixer.music.set_volume(0.01)\n"
   ]
  },
  {
   "cell_type": "code",
   "execution_count": null,
   "metadata": {},
   "outputs": [],
   "source": [
    "not(b_in)"
   ]
  },
  {
   "cell_type": "code",
   "execution_count": null,
   "metadata": {},
   "outputs": [],
   "source": [
    "cv.destroyAllWindows()"
   ]
  }
 ],
 "metadata": {
  "kernelspec": {
   "display_name": "Python 3",
   "language": "python",
   "name": "python3"
  },
  "language_info": {
   "codemirror_mode": {
    "name": "ipython",
    "version": 3
   },
   "file_extension": ".py",
   "mimetype": "text/x-python",
   "name": "python",
   "nbconvert_exporter": "python",
   "pygments_lexer": "ipython3",
   "version": "3.7.6"
  }
 },
 "nbformat": 4,
 "nbformat_minor": 4
}
